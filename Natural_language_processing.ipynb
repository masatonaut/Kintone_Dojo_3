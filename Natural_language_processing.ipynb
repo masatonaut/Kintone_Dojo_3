{
  "nbformat": 4,
  "nbformat_minor": 0,
  "metadata": {
    "colab": {
      "name": "Natural language processing.ipynb",
      "provenance": [],
      "authorship_tag": "ABX9TyNDYiZElMEgHluPlCA1Mjen",
      "include_colab_link": true
    },
    "kernelspec": {
      "name": "python3",
      "display_name": "Python 3"
    },
    "language_info": {
      "name": "python"
    }
  },
  "cells": [
    {
      "cell_type": "markdown",
      "metadata": {
        "id": "view-in-github",
        "colab_type": "text"
      },
      "source": [
        "<a href=\"https://colab.research.google.com/github/masatonaut/Kintone_Dojo_3/blob/master/Natural_language_processing.ipynb\" target=\"_parent\"><img src=\"https://colab.research.google.com/assets/colab-badge.svg\" alt=\"Open In Colab\"/></a>"
      ]
    },
    {
      "cell_type": "code",
      "metadata": {
        "id": "SZDvCT9pVeEV"
      },
      "source": [
        "!apt install aptitude"
      ],
      "execution_count": null,
      "outputs": []
    },
    {
      "cell_type": "code",
      "metadata": {
        "id": "srtTUyF-WI-_"
      },
      "source": [
        "!aptitude install mecab libmecab-dev mecab-ipadic-utf8 git make curl xz-utils file -y"
      ],
      "execution_count": null,
      "outputs": []
    },
    {
      "cell_type": "code",
      "metadata": {
        "id": "NUMNncPqWZu7"
      },
      "source": [
        "!pip install mecab-python3==0.7"
      ],
      "execution_count": null,
      "outputs": []
    },
    {
      "cell_type": "code",
      "metadata": {
        "id": "-uNHBEO8WaH6"
      },
      "source": [
        "import MeCab\n",
        "from glob import glob"
      ],
      "execution_count": 5,
      "outputs": []
    },
    {
      "cell_type": "code",
      "metadata": {
        "id": "aH2CIXoCYP6S"
      },
      "source": [
        "txt = '''はじめまして、こちらはいまにゅチャンネルです。\n",
        "Pythonを使いこなして色んなことができるように、一緒に学んでいきましょう。\n",
        "本講義では特に自然言語処理について学びます。\n",
        "様々なライブラリを活用することで手軽に分析ができます。\n",
        "では早速進めていきましょう。'''"
      ],
      "execution_count": 6,
      "outputs": []
    },
    {
      "cell_type": "code",
      "metadata": {
        "id": "-_xiOVJ9YSuX"
      },
      "source": [
        ""
      ],
      "execution_count": null,
      "outputs": []
    }
  ]
}